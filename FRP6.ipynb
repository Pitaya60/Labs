{
 "cells": [
  {
   "cell_type": "code",
   "execution_count": 2,
   "metadata": {},
   "outputs": [
    {
     "name": "stdout",
     "output_type": "stream",
     "text": [
      "8\n",
      "55\n"
     ]
    }
   ],
   "source": [
    "def fibonacci(n):\n",
    "    if n==0:\n",
    "        return 0 \n",
    "    elif n==1:\n",
    "        return 1 \n",
    "    else:\n",
    "        return fibonacci(n-1)+fibonacci(n-2)\n",
    "\n",
    "print(fibonacci(6))\n",
    "print(fibonacci(10))"
   ]
  },
  {
   "cell_type": "code",
   "execution_count": 3,
   "metadata": {},
   "outputs": [],
   "source": [
    "def sum_tuple_elements(tup):\n",
    "    if len(tup) == 0: \n",
    "        return 0 \n",
    "    else: \n",
    "        return tup[0]+sum_tuple_elements(tup[1:])"
   ]
  },
  {
   "cell_type": "code",
   "execution_count": 2,
   "metadata": {},
   "outputs": [],
   "source": [
    "from rx.subject import Subject\n",
    "from rx import operators as ops\n",
    "from tkinter import Tk, Button, Label\n",
    "\n",
    "root = Tk()\n",
    "root.title(\"Reactive Counter\")\n",
    "\n",
    "counter = Subject()\n",
    "\n",
    "counter_observer = counter.pipe(\n",
    "    ops.scan(lambda acc, x: acc + x, 0)\n",
    ")\n",
    "\n",
    "def update_label(value):\n",
    "    label.config(text=str(value))\n",
    "\n",
    "\n",
    "counter_observer.subscribe(update_label)\n",
    "\n",
    "def increment():\n",
    "    counter.on_next(1)\n",
    "\n",
    "def decrement():\n",
    "    counter.on_next(-1)\n",
    "btn_increment = Button(root, text=\"+\", command=increment)\n",
    "btn_decrement = Button(root, text=\"-\", command=decrement)\n",
    "label = Label(root, text=\"0\")\n",
    "btn_increment.pack()\n",
    "btn_decrement.pack()\n",
    "label.pack()\n",
    "root.mainloop()\n"
   ]
  },
  {
   "cell_type": "code",
   "execution_count": null,
   "metadata": {},
   "outputs": [],
   "source": [
    "from rx import of, operators as ops\n",
    "\n",
    "stream = of(1, 2, 3, 4, 5)\n",
    "\n",
    "lazy_stream = stream.pipe(\n",
    "    ops.filter(lambda x: x % 2 == 0),  \n",
    "    ops.map(lambda x: x * 2)  \n",
    ")\n",
    "\n",
    "lazy_stream.subscribe(lambda value: print(value))"
   ]
  }
 ],
 "metadata": {
  "kernelspec": {
   "display_name": "Python 3",
   "language": "python",
   "name": "python3"
  },
  "language_info": {
   "codemirror_mode": {
    "name": "ipython",
    "version": 3
   },
   "file_extension": ".py",
   "mimetype": "text/x-python",
   "name": "python",
   "nbconvert_exporter": "python",
   "pygments_lexer": "ipython3",
   "version": "3.12.2"
  }
 },
 "nbformat": 4,
 "nbformat_minor": 2
}
