{
 "cells": [
  {
   "cell_type": "markdown",
   "metadata": {},
   "source": [
    "<h1>Lamda-function</h1>"
   ]
  },
  {
   "cell_type": "code",
   "execution_count": 5,
   "metadata": {},
   "outputs": [
    {
     "name": "stdout",
     "output_type": "stream",
     "text": [
      "[('Bob', 25), ('Diana', 28), ('Alice', 30), ('Charlie', 35)]\n"
     ]
    }
   ],
   "source": [
    "people = [(\"Alice\", 30), (\"Bob\", 25), (\"Charlie\", 35), (\"Diana\", 28)]\n",
    "sorted_people = sorted(people, key=lambda person: person[1])\n",
    "print(sorted_people)"
   ]
  },
  {
   "cell_type": "markdown",
   "metadata": {},
   "source": [
    "<h3>Замыкание</h3> "
   ]
  },
  {
   "cell_type": "code",
   "execution_count": 2,
   "metadata": {},
   "outputs": [
    {
     "name": "stdout",
     "output_type": "stream",
     "text": [
      "10\n",
      "15\n"
     ]
    }
   ],
   "source": [
    "def inner_multiplier(n):\n",
    "    def multiply(x):\n",
    "        return x * n\n",
    "    return multiply\n",
    "\n",
    "double = inner_multiplier(2)\n",
    "triple = inner_multiplier(3)\n",
    "print(double(5))\n",
    "print(triple(5)) \n"
   ]
  },
  {
   "cell_type": "markdown",
   "metadata": {},
   "source": [
    "<h1>Бесконечные Арифметические Последовательности</h1>\n",
    "<h3>Реализовать генератор бесконечной арифметической последовательности с\n",
    "использованием ленивых вычислений. </h3>\n"
   ]
  },
  {
   "cell_type": "code",
   "execution_count": 93,
   "metadata": {},
   "outputs": [
    {
     "name": "stdout",
     "output_type": "stream",
     "text": [
      "32\n",
      "35\n",
      "38\n",
      "41\n",
      "44\n",
      "47\n",
      "50\n",
      "53\n",
      "56\n",
      "59\n"
     ]
    }
   ],
   "source": [
    "from itertools import islice\n",
    "\n",
    "def arithmetic_sequence(a, d):\n",
    "    while True:\n",
    "        yield a\n",
    "        a += d\n",
    "\n",
    "gen = arithmetic_sequence(2, 3)\n",
    "for _ in range(10):\n",
    "    next(gen)\n",
    "for _ in range(10):\n",
    "    print(next(gen))\n",
    "\n",
    "#for value in gen:\n",
    "   # print(value)\n",
    "\n",
    "#gen = arithmetic_sequence(2, 3)\n",
    "\n",
    "#for value in islice(gen,10):\n",
    "    #print(value) "
   ]
  },
  {
   "cell_type": "code",
   "execution_count": 86,
   "metadata": {},
   "outputs": [
    {
     "name": "stdout",
     "output_type": "stream",
     "text": [
      "2\n",
      "5\n",
      "8\n",
      "11\n",
      "14\n",
      "17\n",
      "20\n",
      "23\n",
      "26\n",
      "29\n",
      "32\n",
      "35\n",
      "38\n",
      "41\n",
      "44\n",
      "47\n",
      "50\n",
      "53\n",
      "56\n",
      "59\n",
      "[32, 35, 38, 41, 44, 47, 50, 53, 56, 59]\n"
     ]
    }
   ],
   "source": [
    "gen = arithmetic_sequence(2, 3)\n",
    "for _ in range(20):\n",
    "    print(next(gen))\n",
    "\n",
    "gen = arithmetic_sequence(2, 3)  \n",
    "for _ in range(10):  \n",
    "    next(gen)\n",
    "next_10_elements = [next(gen) for _ in range(10)] \n",
    "print(next_10_elements)"
   ]
  },
  {
   "cell_type": "markdown",
   "metadata": {},
   "source": [
    "<h1>Бесконечные Арифметические Последовательности</h1>\n",
    "<h3>Реализовать генератор бесконечной арифметической последовательности с\n",
    "использованием ленивых вычислений.</h3>\n"
   ]
  },
  {
   "cell_type": "code",
   "execution_count": 8,
   "metadata": {},
   "outputs": [
    {
     "name": "stdout",
     "output_type": "stream",
     "text": [
      "2\n",
      "9\n",
      "16\n",
      "23\n",
      "30\n",
      "37\n",
      "44\n",
      "51\n",
      "58\n",
      "65\n",
      "72\n",
      "79\n",
      "86\n",
      "93\n",
      "100\n",
      "107\n",
      "114\n",
      "121\n",
      "128\n",
      "135\n",
      "142\n",
      "149\n",
      "156\n",
      "163\n",
      "170\n",
      "177\n",
      "184\n",
      "191\n",
      "198\n",
      "205\n",
      "212\n",
      "219\n",
      "226\n",
      "233\n",
      "240\n",
      "247\n",
      "254\n",
      "261\n",
      "268\n",
      "275\n"
     ]
    }
   ],
   "source": [
    "def arithmetic_sequence(start,step):\n",
    "    current = start \n",
    "    while True:\n",
    "        yield current\n",
    "        current += step\n",
    "\n",
    "sequence = arithmetic_sequence(2,7)\n",
    "\n",
    "for _ in range(20): \n",
    "    print(next(sequence))\n",
    "    print(next(sequence))"
   ]
  },
  {
   "cell_type": "markdown",
   "metadata": {},
   "source": [
    "<h1>Ленивая Фильтрация Файла</h1>\n",
    "<h3>Разработать функцию для ленивого чтения и фильтрации содержимого\n",
    "большого файла по заданному критерию. </h3>"
   ]
  },
  {
   "cell_type": "code",
   "execution_count": 10,
   "metadata": {},
   "outputs": [
    {
     "ename": "FileNotFoundError",
     "evalue": "[Errno 2] No such file or directory: ''",
     "output_type": "error",
     "traceback": [
      "\u001b[1;31m---------------------------------------------------------------------------\u001b[0m",
      "\u001b[1;31mFileNotFoundError\u001b[0m                         Traceback (most recent call last)",
      "Cell \u001b[1;32mIn[10], line 11\u001b[0m\n\u001b[0;32m      8\u001b[0m criteria \u001b[38;5;241m=\u001b[39m \u001b[38;5;28;01mlambda\u001b[39;00m line: \u001b[38;5;124m'\u001b[39m\u001b[38;5;124msome_keyword\u001b[39m\u001b[38;5;124m'\u001b[39m \u001b[38;5;129;01min\u001b[39;00m line\n\u001b[0;32m      9\u001b[0m filtered_lines \u001b[38;5;241m=\u001b[39m lazy_filter(file_path, criteria)\n\u001b[1;32m---> 11\u001b[0m \u001b[38;5;28;43;01mfor\u001b[39;49;00m\u001b[43m \u001b[49m\u001b[43mline\u001b[49m\u001b[43m \u001b[49m\u001b[38;5;129;43;01min\u001b[39;49;00m\u001b[43m \u001b[49m\u001b[43mfiltered_lines\u001b[49m\u001b[43m:\u001b[49m\u001b[43m \u001b[49m\n\u001b[0;32m     12\u001b[0m \u001b[43m     \u001b[49m\u001b[38;5;28;43mprint\u001b[39;49m\u001b[43m(\u001b[49m\u001b[43mline\u001b[49m\u001b[43m)\u001b[49m\n",
      "Cell \u001b[1;32mIn[10], line 2\u001b[0m, in \u001b[0;36mlazy_filter\u001b[1;34m(file_path, criteria)\u001b[0m\n\u001b[0;32m      1\u001b[0m \u001b[38;5;28;01mdef\u001b[39;00m \u001b[38;5;21mlazy_filter\u001b[39m(file_path, criteria): \n\u001b[1;32m----> 2\u001b[0m     \u001b[38;5;28;01mwith\u001b[39;00m \u001b[38;5;28;43mopen\u001b[39;49m\u001b[43m(\u001b[49m\u001b[43mfile_path\u001b[49m\u001b[43m,\u001b[49m\u001b[43m \u001b[49m\u001b[38;5;124;43m'\u001b[39;49m\u001b[38;5;124;43mr\u001b[39;49m\u001b[38;5;124;43m'\u001b[39;49m\u001b[43m)\u001b[49m \u001b[38;5;28;01mas\u001b[39;00m file:\n\u001b[0;32m      3\u001b[0m         \u001b[38;5;28;01mfor\u001b[39;00m line \u001b[38;5;129;01min\u001b[39;00m file: \n\u001b[0;32m      4\u001b[0m             \u001b[38;5;28;01mif\u001b[39;00m criteria(line): \n",
      "File \u001b[1;32m~\\AppData\\Roaming\\Python\\Python312\\site-packages\\IPython\\core\\interactiveshell.py:324\u001b[0m, in \u001b[0;36m_modified_open\u001b[1;34m(file, *args, **kwargs)\u001b[0m\n\u001b[0;32m    317\u001b[0m \u001b[38;5;28;01mif\u001b[39;00m file \u001b[38;5;129;01min\u001b[39;00m {\u001b[38;5;241m0\u001b[39m, \u001b[38;5;241m1\u001b[39m, \u001b[38;5;241m2\u001b[39m}:\n\u001b[0;32m    318\u001b[0m     \u001b[38;5;28;01mraise\u001b[39;00m \u001b[38;5;167;01mValueError\u001b[39;00m(\n\u001b[0;32m    319\u001b[0m         \u001b[38;5;124mf\u001b[39m\u001b[38;5;124m\"\u001b[39m\u001b[38;5;124mIPython won\u001b[39m\u001b[38;5;124m'\u001b[39m\u001b[38;5;124mt let you open fd=\u001b[39m\u001b[38;5;132;01m{\u001b[39;00mfile\u001b[38;5;132;01m}\u001b[39;00m\u001b[38;5;124m by default \u001b[39m\u001b[38;5;124m\"\u001b[39m\n\u001b[0;32m    320\u001b[0m         \u001b[38;5;124m\"\u001b[39m\u001b[38;5;124mas it is likely to crash IPython. If you know what you are doing, \u001b[39m\u001b[38;5;124m\"\u001b[39m\n\u001b[0;32m    321\u001b[0m         \u001b[38;5;124m\"\u001b[39m\u001b[38;5;124myou can use builtins\u001b[39m\u001b[38;5;124m'\u001b[39m\u001b[38;5;124m open.\u001b[39m\u001b[38;5;124m\"\u001b[39m\n\u001b[0;32m    322\u001b[0m     )\n\u001b[1;32m--> 324\u001b[0m \u001b[38;5;28;01mreturn\u001b[39;00m \u001b[43mio_open\u001b[49m\u001b[43m(\u001b[49m\u001b[43mfile\u001b[49m\u001b[43m,\u001b[49m\u001b[43m \u001b[49m\u001b[38;5;241;43m*\u001b[39;49m\u001b[43margs\u001b[49m\u001b[43m,\u001b[49m\u001b[43m \u001b[49m\u001b[38;5;241;43m*\u001b[39;49m\u001b[38;5;241;43m*\u001b[39;49m\u001b[43mkwargs\u001b[49m\u001b[43m)\u001b[49m\n",
      "\u001b[1;31mFileNotFoundError\u001b[0m: [Errno 2] No such file or directory: ''"
     ]
    }
   ],
   "source": [
    "def lazy_filter(file_path, criteria): \n",
    "    with open(file_path, 'r') as file:\n",
    "        for line in file: \n",
    "            if criteria(line): \n",
    "              yield line.strip()\n",
    "\n",
    "file_path = ''\n",
    "criteria = lambda line: 'some_keyword' in line\n",
    "filtered_lines = lazy_filter(file_path, criteria)\n",
    "\n",
    "for line in filtered_lines: \n",
    "     print(line)"
   ]
  }
 ],
 "metadata": {
  "kernelspec": {
   "display_name": "Python 3",
   "language": "python",
   "name": "python3"
  },
  "language_info": {
   "codemirror_mode": {
    "name": "ipython",
    "version": 3
   },
   "file_extension": ".py",
   "mimetype": "text/x-python",
   "name": "python",
   "nbconvert_exporter": "python",
   "pygments_lexer": "ipython3",
   "version": "3.12.2"
  }
 },
 "nbformat": 4,
 "nbformat_minor": 2
}
